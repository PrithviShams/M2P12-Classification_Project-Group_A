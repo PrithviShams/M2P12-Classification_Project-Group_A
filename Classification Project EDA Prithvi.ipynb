{
 "cells": [
  {
   "cell_type": "markdown",
   "metadata": {},
   "source": [
    "# Import Libraries"
   ]
  },
  {
   "cell_type": "code",
   "execution_count": 17,
   "metadata": {},
   "outputs": [],
   "source": [
    "import numpy as np\n",
    "import pandas as pd\n",
    "import seaborn as sns\n",
    "import matplotlib.pyplot as plt\n",
    "from sklearn.preprocessing import StandardScaler,OneHotEncoder, OrdinalEncoder\n",
    "from sklearn.model_selection import train_test_split\n",
    "from sklearn.linear_model import LogisticRegression\n",
    "from sklearn.metrics import accuracy_score, confusion_matrix, classification_report\n",
    "from sklearn.cluster import KMeans"
   ]
  },
  {
   "cell_type": "markdown",
   "metadata": {},
   "source": [
    "# EDA"
   ]
  },
  {
   "cell_type": "code",
   "execution_count": 18,
   "metadata": {},
   "outputs": [],
   "source": [
    "# Load the data\n",
    "data = pd.read_excel(r'/Users/prithvishams/Documents/Bootcamp Concordia/M2P12-Classification_Project-main/churn.xlsx')"
   ]
  },
  {
   "cell_type": "markdown",
   "metadata": {},
   "source": [
    "<u>Country</u> and <u>State</u> all have a single value, hence these can be dropped <br>\n",
    "Billing method and paper/paperless billing have no influence on customer retention, hence dropping these columns <br>\n",
    "<u>Total Charges</u> column makes <u>Monthly Charges</u> column redundant <br>\n",
    "<u>Churn Value</u> makes <u>Churn Label</u> redundant <br>\n",
    "<u>Churn Reason</u> column has 6000 + missing values in a dataset of 7000 datapoints, hence, dropping this column.<br>\n",
    "<br>\n",
    "We will transform lat and lon data into a categorical column, so <u>zip code</u> is redundant location information.\n"
   ]
  },
  {
   "cell_type": "code",
   "execution_count": 19,
   "metadata": {},
   "outputs": [],
   "source": [
    "# Drop unnecessary columns\n",
    "df = data.drop(['CustomerID','Count','Country','State','City','Lat Long','Zip Code','Paperless Billing','Payment Method','Monthly Charges','Churn Label','Churn Reason'], axis=1)"
   ]
  },
  {
   "cell_type": "code",
   "execution_count": 20,
   "metadata": {},
   "outputs": [
    {
     "name": "stdout",
     "output_type": "stream",
     "text": [
      "<class 'pandas.core.frame.DataFrame'>\n",
      "RangeIndex: 7043 entries, 0 to 7042\n",
      "Data columns (total 21 columns):\n",
      " #   Column             Non-Null Count  Dtype  \n",
      "---  ------             --------------  -----  \n",
      " 0   Latitude           7043 non-null   float64\n",
      " 1   Longitude          7043 non-null   float64\n",
      " 2   Gender             7043 non-null   object \n",
      " 3   Senior Citizen     7043 non-null   object \n",
      " 4   Partner            7043 non-null   object \n",
      " 5   Dependents         7043 non-null   object \n",
      " 6   Tenure Months      7043 non-null   int64  \n",
      " 7   Phone Service      7043 non-null   object \n",
      " 8   Multiple Lines     7043 non-null   object \n",
      " 9   Internet Service   7043 non-null   object \n",
      " 10  Online Security    7043 non-null   object \n",
      " 11  Online Backup      7043 non-null   object \n",
      " 12  Device Protection  7043 non-null   object \n",
      " 13  Tech Support       7043 non-null   object \n",
      " 14  Streaming TV       7043 non-null   object \n",
      " 15  Streaming Movies   7043 non-null   object \n",
      " 16  Contract           7043 non-null   object \n",
      " 17  Total Charges      7043 non-null   object \n",
      " 18  Churn Value        7043 non-null   int64  \n",
      " 19  Churn Score        7043 non-null   int64  \n",
      " 20  CLTV               7043 non-null   int64  \n",
      "dtypes: float64(2), int64(4), object(15)\n",
      "memory usage: 1.1+ MB\n"
     ]
    }
   ],
   "source": [
    "df.info()"
   ]
  },
  {
   "cell_type": "markdown",
   "metadata": {},
   "source": [
    "## Data Preprocessing"
   ]
  },
  {
   "cell_type": "markdown",
   "metadata": {},
   "source": [
    "<b>Multiple Lines</b><br>\n",
    "Indicates whether the customer subscribes to multiple telephone lines with the company. This column should contain yes/no values. <br>\n",
    "<i>No phone service</i> shall be standardized to <i>no</i><br>\n",
    "<br>\n",
    "Similar cleanup is done in other columns where the customer did not subscribe to the specific service simply because they were not signed up for the internet service."
   ]
  },
  {
   "cell_type": "code",
   "execution_count": 21,
   "metadata": {},
   "outputs": [],
   "source": [
    "df['Multiple Lines']=df['Multiple Lines'].replace('No phone service','No')\n",
    "df['Online Security']=df['Online Security'].replace('No internet service','No')\n",
    "df['Online Backup']=df['Online Backup'].replace('No internet service','No')\n",
    "df['Device Protection']=df['Device Protection'].replace('No internet service','No')\n",
    "df['Tech Support']=df['Tech Support'].replace('No internet service','No')\n",
    "df['Streaming TV']=df['Streaming TV'].replace('No internet service','No')\n",
    "df['Streaming Movies']=df['Streaming Movies'].replace('No internet service','No')"
   ]
  },
  {
   "cell_type": "markdown",
   "metadata": {},
   "source": [
    "<b>Convert object to float</b><br>\n",
    "<u>Total Charges</u> should be float instead of object"
   ]
  },
  {
   "cell_type": "code",
   "execution_count": 22,
   "metadata": {},
   "outputs": [],
   "source": [
    "#Convert object data type to float\n",
    "df['Total Charges'] = pd.to_numeric(df['Total Charges'], errors='coerce')\n",
    "df['Total Charges'] = df['Total Charges'].astype(float)\n",
    "df.dropna(subset=['Total Charges'], inplace=True) #drop 11 rows with missing values"
   ]
  },
  {
   "cell_type": "code",
   "execution_count": 23,
   "metadata": {},
   "outputs": [
    {
     "name": "stdout",
     "output_type": "stream",
     "text": [
      "<class 'pandas.core.frame.DataFrame'>\n",
      "Index: 7032 entries, 0 to 7042\n",
      "Data columns (total 21 columns):\n",
      " #   Column             Non-Null Count  Dtype  \n",
      "---  ------             --------------  -----  \n",
      " 0   Latitude           7032 non-null   float64\n",
      " 1   Longitude          7032 non-null   float64\n",
      " 2   Gender             7032 non-null   object \n",
      " 3   Senior Citizen     7032 non-null   object \n",
      " 4   Partner            7032 non-null   object \n",
      " 5   Dependents         7032 non-null   object \n",
      " 6   Tenure Months      7032 non-null   int64  \n",
      " 7   Phone Service      7032 non-null   object \n",
      " 8   Multiple Lines     7032 non-null   object \n",
      " 9   Internet Service   7032 non-null   object \n",
      " 10  Online Security    7032 non-null   object \n",
      " 11  Online Backup      7032 non-null   object \n",
      " 12  Device Protection  7032 non-null   object \n",
      " 13  Tech Support       7032 non-null   object \n",
      " 14  Streaming TV       7032 non-null   object \n",
      " 15  Streaming Movies   7032 non-null   object \n",
      " 16  Contract           7032 non-null   object \n",
      " 17  Total Charges      7032 non-null   float64\n",
      " 18  Churn Value        7032 non-null   int64  \n",
      " 19  Churn Score        7032 non-null   int64  \n",
      " 20  CLTV               7032 non-null   int64  \n",
      "dtypes: float64(3), int64(4), object(14)\n",
      "memory usage: 1.2+ MB\n"
     ]
    }
   ],
   "source": [
    "df.info()"
   ]
  },
  {
   "cell_type": "markdown",
   "metadata": {},
   "source": [
    "## Feature Engineering"
   ]
  },
  {
   "cell_type": "markdown",
   "metadata": {},
   "source": [
    "### Encoding Geographic data with K-means clustering<br>\n",
    "We will use Elbow method to find the optimal value of K <br>\n",
    "Statistical literature recommends a range of 1 to 10 of K values for customer behavior modelling"
   ]
  },
  {
   "cell_type": "code",
   "execution_count": 24,
   "metadata": {},
   "outputs": [
    {
     "data": {
      "image/png": "[encoded data removed]",
      "text/plain": [
       "<Figure size 1000x500 with 1 Axes>"
      ]
     },
     "metadata": {},
     "output_type": "display_data"
    }
   ],
   "source": [
    "#standardize coordinates to mitigate scale difference between latitude (-90, +90) and longitude (-180, +180)\n",
    "latlon_scaler = StandardScaler()\n",
    "\n",
    "scaled_coords = latlon_scaler.fit_transform(df[['Latitude','Longitude']])\n",
    "\n",
    "inertia = [] #list to store the values of inertia for elbow method plot\n",
    "\n",
    "for k in range(1,11):\n",
    "    kmeans = KMeans(n_clusters = k, n_init=10, random_state=42)\n",
    "    kmeans.fit(scaled_coords)\n",
    "    inertia.append(kmeans.inertia_)\n",
    "#Visualize the elbow method\n",
    "plt.figure(figsize=(10,5))\n",
    "plt.plot(range(1,11), inertia, marker='o')\n",
    "plt.title('Find Optimal K')\n",
    "plt.xlabel('Number of Clusters')\n",
    "plt.ylabel('Inertia')\n",
    "plt.show()"
   ]
  },
  {
   "cell_type": "markdown",
   "metadata": {},
   "source": [
    "The elbow is observed at K = 2"
   ]
  },
  {
   "cell_type": "code",
   "execution_count": 25,
   "metadata": {},
   "outputs": [
    {
     "data": {
      "text/plain": [
       "Geo Cluster\n",
       "1    3524\n",
       "0    3508\n",
       "Name: count, dtype: int64"
      ]
     },
     "execution_count": 25,
     "metadata": {},
     "output_type": "execute_result"
    }
   ],
   "source": [
    "#Train KMeans with the optimum K\n",
    "kmeans_final = KMeans(n_clusters = 2, n_init=10, random_state=42)\n",
    "df['Geo Cluster'] = kmeans_final.fit_predict(scaled_coords)\n",
    "df['Geo Cluster'].value_counts()"
   ]
  },
  {
   "cell_type": "markdown",
   "metadata": {},
   "source": [
    "All the location data points were grouped into 2 clusters with equal weights. Apparently, geolocation data may not have any impact on predicitng churn values. We will still retain this column for comparison and drop the rest of the geolocation features"
   ]
  },
  {
   "cell_type": "code",
   "execution_count": 26,
   "metadata": {},
   "outputs": [
    {
     "name": "stdout",
     "output_type": "stream",
     "text": [
      "<class 'pandas.core.frame.DataFrame'>\n",
      "Index: 7032 entries, 0 to 7042\n",
      "Data columns (total 20 columns):\n",
      " #   Column             Non-Null Count  Dtype  \n",
      "---  ------             --------------  -----  \n",
      " 0   Gender             7032 non-null   object \n",
      " 1   Senior Citizen     7032 non-null   object \n",
      " 2   Partner            7032 non-null   object \n",
      " 3   Dependents         7032 non-null   object \n",
      " 4   Tenure Months      7032 non-null   int64  \n",
      " 5   Phone Service      7032 non-null   object \n",
      " 6   Multiple Lines     7032 non-null   object \n",
      " 7   Internet Service   7032 non-null   object \n",
      " 8   Online Security    7032 non-null   object \n",
      " 9   Online Backup      7032 non-null   object \n",
      " 10  Device Protection  7032 non-null   object \n",
      " 11  Tech Support       7032 non-null   object \n",
      " 12  Streaming TV       7032 non-null   object \n",
      " 13  Streaming Movies   7032 non-null   object \n",
      " 14  Contract           7032 non-null   object \n",
      " 15  Total Charges      7032 non-null   float64\n",
      " 16  Churn Value        7032 non-null   int64  \n",
      " 17  Churn Score        7032 non-null   int64  \n",
      " 18  CLTV               7032 non-null   int64  \n",
      " 19  Geo Cluster        7032 non-null   int32  \n",
      "dtypes: float64(1), int32(1), int64(4), object(14)\n",
      "memory usage: 1.1+ MB\n"
     ]
    }
   ],
   "source": [
    "df=df.drop(['Latitude','Longitude'], axis=1)\n",
    "df.info()"
   ]
  },
  {
   "cell_type": "markdown",
   "metadata": {},
   "source": [
    "### Visualize correlation data<br>\n",
    "Let's look at the correlation between churn value and the numerical features in the dataset"
   ]
  },
  {
   "cell_type": "code",
   "execution_count": 27,
   "metadata": {},
   "outputs": [
    {
     "data": {
      "image/png": "[encoded data removed]",
      "text/plain": [
       "<Figure size 640x480 with 1 Axes>"
      ]
     },
     "metadata": {},
     "output_type": "display_data"
    }
   ],
   "source": [
    "#Calculate correlation matrix\n",
    "correlation_matrix = df[['Tenure Months','Total Charges','Churn Value','Churn Score','CLTV']].corr()\n",
    "correlation_with_churn = correlation_matrix[\"Churn Score\"].drop(\"Churn Score\").sort_values(ascending=False) \n",
    "\n",
    "correlation_with_churn.plot(kind='bar', color='skyblue')\n",
    "plt.title('Correlation with Churn Score')\n",
    "plt.ylabel('Correlation Coefficient')\n",
    "plt.xlabel('Features')\n",
    "plt.show()"
   ]
  },
  {
   "cell_type": "markdown",
   "metadata": {},
   "source": [
    "The figure shows a strong correlation with churn value but a strong negative correlation with tenure, which is expected. According to the figure, the longer the customer stays with the company, the unlikely they are to churn."
   ]
  },
  {
   "cell_type": "markdown",
   "metadata": {},
   "source": [
    "### Encoding nominal categories"
   ]
  },
  {
   "cell_type": "code",
   "execution_count": 28,
   "metadata": {},
   "outputs": [
    {
     "name": "stdout",
     "output_type": "stream",
     "text": [
      "<class 'pandas.core.frame.DataFrame'>\n",
      "RangeIndex: 7032 entries, 0 to 7031\n",
      "Data columns (total 14 columns):\n",
      " #   Column                        Non-Null Count  Dtype  \n",
      "---  ------                        --------------  -----  \n",
      " 0   Gender_Male                   7032 non-null   float64\n",
      " 1   Senior Citizen_Yes            7032 non-null   float64\n",
      " 2   Partner_Yes                   7032 non-null   float64\n",
      " 3   Dependents_Yes                7032 non-null   float64\n",
      " 4   Phone Service_Yes             7032 non-null   float64\n",
      " 5   Multiple Lines_Yes            7032 non-null   float64\n",
      " 6   Internet Service_Fiber optic  7032 non-null   float64\n",
      " 7   Internet Service_No           7032 non-null   float64\n",
      " 8   Online Security_Yes           7032 non-null   float64\n",
      " 9   Online Backup_Yes             7032 non-null   float64\n",
      " 10  Device Protection_Yes         7032 non-null   float64\n",
      " 11  Tech Support_Yes              7032 non-null   float64\n",
      " 12  Streaming TV_Yes              7032 non-null   float64\n",
      " 13  Streaming Movies_Yes          7032 non-null   float64\n",
      "dtypes: float64(14)\n",
      "memory usage: 769.3 KB\n"
     ]
    }
   ],
   "source": [
    "nominal_cols = ['Gender','Senior Citizen','Partner','Dependents','Phone Service','Multiple Lines','Internet Service','Online Security','Online Backup','Device Protection','Tech Support','Streaming TV','Streaming Movies']\n",
    "\n",
    "nominal_encoder = OneHotEncoder(drop='first', sparse_output=False)\n",
    "\n",
    "encoded_nominal_cols_df = pd.DataFrame(nominal_encoder.fit_transform(df[nominal_cols]), columns=nominal_encoder.get_feature_names_out(nominal_cols))\n",
    "\n",
    "encoded_nominal_cols_df.info()\n",
    "\n"
   ]
  },
  {
   "cell_type": "code",
   "execution_count": 29,
   "metadata": {},
   "outputs": [],
   "source": [
    "# drop original nominal features and add encoded nominal features\n",
    "encoded_df = df.drop(nominal_cols, axis=1).join(encoded_nominal_cols_df)"
   ]
  },
  {
   "cell_type": "markdown",
   "metadata": {},
   "source": [
    "### Encoding Ordinal Category"
   ]
  },
  {
   "cell_type": "markdown",
   "metadata": {},
   "source": [
    "The only ordinal category in the dataset is <u>Contract</u> <br>\n",
    "These categorical values are encoded on the assumption that companes place a higher weight on long-term contracts than month-to-month contracts."
   ]
  },
  {
   "cell_type": "code",
   "execution_count": 30,
   "metadata": {},
   "outputs": [
    {
     "name": "stdout",
     "output_type": "stream",
     "text": [
      "<class 'pandas.core.frame.DataFrame'>\n",
      "Index: 7032 entries, 0 to 7042\n",
      "Data columns (total 21 columns):\n",
      " #   Column                        Non-Null Count  Dtype  \n",
      "---  ------                        --------------  -----  \n",
      " 0   Tenure Months                 7032 non-null   int64  \n",
      " 1   Total Charges                 7032 non-null   float64\n",
      " 2   Churn Value                   7032 non-null   int64  \n",
      " 3   Churn Score                   7032 non-null   int64  \n",
      " 4   CLTV                          7032 non-null   int64  \n",
      " 5   Geo Cluster                   7032 non-null   int32  \n",
      " 6   Gender_Male                   7021 non-null   float64\n",
      " 7   Senior Citizen_Yes            7021 non-null   float64\n",
      " 8   Partner_Yes                   7021 non-null   float64\n",
      " 9   Dependents_Yes                7021 non-null   float64\n",
      " 10  Phone Service_Yes             7021 non-null   float64\n",
      " 11  Multiple Lines_Yes            7021 non-null   float64\n",
      " 12  Internet Service_Fiber optic  7021 non-null   float64\n",
      " 13  Internet Service_No           7021 non-null   float64\n",
      " 14  Online Security_Yes           7021 non-null   float64\n",
      " 15  Online Backup_Yes             7021 non-null   float64\n",
      " 16  Device Protection_Yes         7021 non-null   float64\n",
      " 17  Tech Support_Yes              7021 non-null   float64\n",
      " 18  Streaming TV_Yes              7021 non-null   float64\n",
      " 19  Streaming Movies_Yes          7021 non-null   float64\n",
      " 20  Contract_encoded              7032 non-null   float64\n",
      "dtypes: float64(16), int32(1), int64(4)\n",
      "memory usage: 1.4 MB\n"
     ]
    }
   ],
   "source": [
    "order = ['Month-to-month','One year','Two year']\n",
    "ordinal_encoder = OrdinalEncoder(categories=[order])\n",
    "encoded_df['Contract_encoded'] = ordinal_encoder.fit_transform(df[['Contract']])\n",
    "encoded_df.drop('Contract', axis=1, inplace=True)\n",
    "encoded_df.info()"
   ]
  },
  {
   "cell_type": "code",
   "execution_count": null,
   "metadata": {},
   "outputs": [
    {
     "name": "stdout",
     "output_type": "stream",
     "text": [
      "<class 'pandas.core.frame.DataFrame'>\n",
      "Index: 7021 entries, 0 to 7031\n",
      "Data columns (total 21 columns):\n",
      " #   Column                        Non-Null Count  Dtype  \n",
      "---  ------                        --------------  -----  \n",
      " 0   Tenure Months                 7021 non-null   int64  \n",
      " 1   Total Charges                 7021 non-null   float64\n",
      " 2   Churn Value                   7021 non-null   int64  \n",
      " 3   Churn Score                   7021 non-null   int64  \n",
      " 4   CLTV                          7021 non-null   int64  \n",
      " 5   Geo Cluster                   7021 non-null   int32  \n",
      " 6   Gender_Male                   7021 non-null   float64\n",
      " 7   Senior Citizen_Yes            7021 non-null   float64\n",
      " 8   Partner_Yes                   7021 non-null   float64\n",
      " 9   Dependents_Yes                7021 non-null   float64\n",
      " 10  Phone Service_Yes             7021 non-null   float64\n",
      " 11  Multiple Lines_Yes            7021 non-null   float64\n",
      " 12  Internet Service_Fiber optic  7021 non-null   float64\n",
      " 13  Internet Service_No           7021 non-null   float64\n",
      " 14  Online Security_Yes           7021 non-null   float64\n",
      " 15  Online Backup_Yes             7021 non-null   float64\n",
      " 16  Device Protection_Yes         7021 non-null   float64\n",
      " 17  Tech Support_Yes              7021 non-null   float64\n",
      " 18  Streaming TV_Yes              7021 non-null   float64\n",
      " 19  Streaming Movies_Yes          7021 non-null   float64\n",
      " 20  Contract_encoded              7021 non-null   float64\n",
      "dtypes: float64(16), int32(1), int64(4)\n",
      "memory usage: 1.2 MB\n"
     ]
    }
   ],
   "source": [
    "#Drop null values after ordinal encoding\n",
    "encoded_df.dropna(inplace=True)\n",
    "encoded_df.info()"
   ]
  },
  {
   "cell_type": "markdown",
   "metadata": {},
   "source": []
  }
 ],
 "metadata": {
  "kernelspec": {
   "display_name": "base",
   "language": "python",
   "name": "python3"
  },
  "language_info": {
   "codemirror_mode": {
    "name": "ipython",
    "version": 3
   },
   "file_extension": ".py",
   "mimetype": "text/x-python",
   "name": "python",
   "nbconvert_exporter": "python",
   "pygments_lexer": "ipython3",
   "version": "3.11.7"
  }
 },
 "nbformat": 4,
 "nbformat_minor": 2
}
